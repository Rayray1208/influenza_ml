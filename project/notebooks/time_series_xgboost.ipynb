{
 "cells": [
  {
   "cell_type": "code",
   "execution_count": 1,
   "metadata": {},
   "outputs": [],
   "source": [
    "#import required lib\n",
    "import pandas as pd\n",
    "import numpy as np\n",
    "from sklearn.model_selection import train_test_split, GridSearchCV\n",
    "import xgboost as xgb\n",
    "from xgboost import plot_tree\n",
    "from sklearn.metrics import mean_absolute_error, mean_squared_error, make_scorer\n",
    "import wandb\n",
    "import matplotlib.pyplot as plt"
   ]
  },
  {
   "cell_type": "markdown",
   "metadata": {},
   "source": [
    "# wandb recording the expirement datas\n",
    "## if you wanna login your wandb account \n",
    "```\n",
    "wandb.login()\n",
    "```\n",
    "## then input your wandb.api\n"
   ]
  },
  {
   "cell_type": "code",
   "execution_count": 3,
   "metadata": {},
   "outputs": [],
   "source": [
    "#wandb init or not\n",
    "def wandb_log(x,y):\n",
    "    if x == \"n\":\n",
    "        return 0 \n",
    "    else :\n",
    "        if y == \"init\":\n",
    "            proj_name = str(input(\"input your project name:\"))\n",
    "            wandb.init(project=\"influenza_formal_test\", name=proj_name)\n",
    "        elif y == \"gridsearch\":\n",
    "            for i, (params, mean_score, std_score) in enumerate(zip(grid_search.cv_results_['params'],\n",
    "                                                            grid_search.cv_results_['mean_test_score'],\n",
    "                                                            grid_search.cv_results_['std_test_score'])):\n",
    "                wandb.log({\n",
    "                 \"Fold\": i,\n",
    "                \"Mean MAPE\": -mean_score,\n",
    "                \"Std MAPE\": std_score,\n",
    "                \"Parameters\": params\n",
    "        })\n",
    "        elif y == \"log_final_data\" and mape is not None and mse is not None and mae is not None:\n",
    "            wandb.log({\"Final MAPE\": mape, \"Final MSE\": mse, \"Final MAE\": mae})\n",
    "            wandb.log({\"chart\": wandb.Image('plot_xgboost.png')})\n",
    "            wandb.log({\"chart\": wandb.Image(\"xgboost_tree.png\")})"
   ]
  },
  {
   "cell_type": "code",
   "execution_count": 4,
   "metadata": {},
   "outputs": [],
   "source": [
    "#judge rule\n",
    "def create_lag_features(data, lag):\n",
    "    for i in range(1, lag + 1):\n",
    "        data[f'lag_{i}'] = data['ConfirmedCases'].shift(i)\n",
    "    return data\n",
    "        \n",
    "def calculate_mape(y_true, y_pred, epsilon=1e-10):\n",
    "    y_true, y_pred = np.array(y_true), np.array(y_pred)\n",
    "    non_zero_mask = (y_true != 0) & (y_pred != 0)\n",
    "    absolute_percentage_error = np.abs((y_true[non_zero_mask] - y_pred[non_zero_mask]) / (y_true[non_zero_mask] + epsilon))\n",
    "    return np.mean(absolute_percentage_error) * 100 if len(absolute_percentage_error) > 0 else np.nan\n",
    "\n",
    "def mape_scorer(y_true, y_pred):\n",
    "    mape = calculate_mape(y_true, y_pred)\n",
    "    mape = np.abs(mape) if not np.isnan(mape) else np.inf\n",
    "    return -mape"
   ]
  },
  {
   "cell_type": "markdown",
   "metadata": {},
   "source": [
    "# THE BEST HYPERPARAMETERS:\n",
    "## \n",
    "\n"
   ]
  },
  {
   "cell_type": "code",
   "execution_count": 7,
   "metadata": {},
   "outputs": [
    {
     "data": {
      "text/html": [
       "Tracking run with wandb version 0.18.0"
      ],
      "text/plain": [
       "<IPython.core.display.HTML object>"
      ]
     },
     "metadata": {},
     "output_type": "display_data"
    },
    {
     "data": {
      "text/html": [
       "Run data is saved locally in <code>/Users/chenbaiyan/Desktop/ml_test/wandb/run-20241018_083119-dh6n8hd6</code>"
      ],
      "text/plain": [
       "<IPython.core.display.HTML object>"
      ]
     },
     "metadata": {},
     "output_type": "display_data"
    },
    {
     "data": {
      "text/html": [
       "Syncing run <strong><a href='https://wandb.ai/sea041598-tsmc/influenza_formal_test/runs/dh6n8hd6' target=\"_blank\">xgboost_time_series</a></strong> to <a href='https://wandb.ai/sea041598-tsmc/influenza_formal_test' target=\"_blank\">Weights & Biases</a> (<a href='https://wandb.me/run' target=\"_blank\">docs</a>)<br/>"
      ],
      "text/plain": [
       "<IPython.core.display.HTML object>"
      ]
     },
     "metadata": {},
     "output_type": "display_data"
    },
    {
     "data": {
      "text/html": [
       " View project at <a href='https://wandb.ai/sea041598-tsmc/influenza_formal_test' target=\"_blank\">https://wandb.ai/sea041598-tsmc/influenza_formal_test</a>"
      ],
      "text/plain": [
       "<IPython.core.display.HTML object>"
      ]
     },
     "metadata": {},
     "output_type": "display_data"
    },
    {
     "data": {
      "text/html": [
       " View run at <a href='https://wandb.ai/sea041598-tsmc/influenza_formal_test/runs/dh6n8hd6' target=\"_blank\">https://wandb.ai/sea041598-tsmc/influenza_formal_test/runs/dh6n8hd6</a>"
      ],
      "text/plain": [
       "<IPython.core.display.HTML object>"
      ]
     },
     "metadata": {},
     "output_type": "display_data"
    },
    {
     "name": "stdout",
     "output_type": "stream",
     "text": [
      "最终模型 MAPE: 31.13%\n",
      "均方误差 (MSE): 171.45\n",
      "平均绝对误差 (MAE): 9.28\n"
     ]
    },
    {
     "ename": "NameError",
     "evalue": "name 'mape' is not defined",
     "output_type": "error",
     "traceback": [
      "\u001b[0;31m---------------------------------------------------------------------------\u001b[0m",
      "\u001b[0;31mNameError\u001b[0m                                 Traceback (most recent call last)",
      "Cell \u001b[0;32mIn[7], line 65\u001b[0m\n\u001b[1;32m     63\u001b[0m     wandb_log(log1,\u001b[38;5;124m\"\u001b[39m\u001b[38;5;124mlog_final_data\u001b[39m\u001b[38;5;124m\"\u001b[39m)\n\u001b[1;32m     64\u001b[0m \u001b[38;5;28;01mif\u001b[39;00m \u001b[38;5;18m__name__\u001b[39m \u001b[38;5;241m==\u001b[39m \u001b[38;5;124m\"\u001b[39m\u001b[38;5;124m__main__\u001b[39m\u001b[38;5;124m\"\u001b[39m:\n\u001b[0;32m---> 65\u001b[0m     \u001b[43mmain\u001b[49m\u001b[43m(\u001b[49m\u001b[43m)\u001b[49m\n",
      "Cell \u001b[0;32mIn[7], line 63\u001b[0m, in \u001b[0;36mmain\u001b[0;34m()\u001b[0m\n\u001b[1;32m     61\u001b[0m plt\u001b[38;5;241m.\u001b[39msavefig(\u001b[38;5;124m\"\u001b[39m\u001b[38;5;124mxgboost_tree.png\u001b[39m\u001b[38;5;124m\"\u001b[39m,dpi \u001b[38;5;241m=\u001b[39m \u001b[38;5;241m1200\u001b[39m , bbox_inches \u001b[38;5;241m=\u001b[39m \u001b[38;5;124m\"\u001b[39m\u001b[38;5;124mtight\u001b[39m\u001b[38;5;124m\"\u001b[39m)\n\u001b[1;32m     62\u001b[0m plt\u001b[38;5;241m.\u001b[39mclose()  \u001b[38;5;66;03m# Close the figure after saving\u001b[39;00m\n\u001b[0;32m---> 63\u001b[0m \u001b[43mwandb_log\u001b[49m\u001b[43m(\u001b[49m\u001b[43mlog1\u001b[49m\u001b[43m,\u001b[49m\u001b[38;5;124;43m\"\u001b[39;49m\u001b[38;5;124;43mlog_final_data\u001b[39;49m\u001b[38;5;124;43m\"\u001b[39;49m\u001b[43m)\u001b[49m\n",
      "Cell \u001b[0;32mIn[3], line 19\u001b[0m, in \u001b[0;36mwandb_log\u001b[0;34m(x, y)\u001b[0m\n\u001b[1;32m     10\u001b[0m     \u001b[38;5;28;01mfor\u001b[39;00m i, (params, mean_score, std_score) \u001b[38;5;129;01min\u001b[39;00m \u001b[38;5;28menumerate\u001b[39m(\u001b[38;5;28mzip\u001b[39m(grid_search\u001b[38;5;241m.\u001b[39mcv_results_[\u001b[38;5;124m'\u001b[39m\u001b[38;5;124mparams\u001b[39m\u001b[38;5;124m'\u001b[39m],\n\u001b[1;32m     11\u001b[0m                                                     grid_search\u001b[38;5;241m.\u001b[39mcv_results_[\u001b[38;5;124m'\u001b[39m\u001b[38;5;124mmean_test_score\u001b[39m\u001b[38;5;124m'\u001b[39m],\n\u001b[1;32m     12\u001b[0m                                                     grid_search\u001b[38;5;241m.\u001b[39mcv_results_[\u001b[38;5;124m'\u001b[39m\u001b[38;5;124mstd_test_score\u001b[39m\u001b[38;5;124m'\u001b[39m])):\n\u001b[1;32m     13\u001b[0m         wandb\u001b[38;5;241m.\u001b[39mlog({\n\u001b[1;32m     14\u001b[0m          \u001b[38;5;124m\"\u001b[39m\u001b[38;5;124mFold\u001b[39m\u001b[38;5;124m\"\u001b[39m: i,\n\u001b[1;32m     15\u001b[0m         \u001b[38;5;124m\"\u001b[39m\u001b[38;5;124mMean MAPE\u001b[39m\u001b[38;5;124m\"\u001b[39m: \u001b[38;5;241m-\u001b[39mmean_score,\n\u001b[1;32m     16\u001b[0m         \u001b[38;5;124m\"\u001b[39m\u001b[38;5;124mStd MAPE\u001b[39m\u001b[38;5;124m\"\u001b[39m: std_score,\n\u001b[1;32m     17\u001b[0m         \u001b[38;5;124m\"\u001b[39m\u001b[38;5;124mParameters\u001b[39m\u001b[38;5;124m\"\u001b[39m: params\n\u001b[1;32m     18\u001b[0m })\n\u001b[0;32m---> 19\u001b[0m \u001b[38;5;28;01melif\u001b[39;00m y \u001b[38;5;241m==\u001b[39m \u001b[38;5;124m\"\u001b[39m\u001b[38;5;124mlog_final_data\u001b[39m\u001b[38;5;124m\"\u001b[39m \u001b[38;5;129;01mand\u001b[39;00m \u001b[43mmape\u001b[49m \u001b[38;5;129;01mis\u001b[39;00m \u001b[38;5;129;01mnot\u001b[39;00m \u001b[38;5;28;01mNone\u001b[39;00m \u001b[38;5;129;01mand\u001b[39;00m mse \u001b[38;5;129;01mis\u001b[39;00m \u001b[38;5;129;01mnot\u001b[39;00m \u001b[38;5;28;01mNone\u001b[39;00m \u001b[38;5;129;01mand\u001b[39;00m mae \u001b[38;5;129;01mis\u001b[39;00m \u001b[38;5;129;01mnot\u001b[39;00m \u001b[38;5;28;01mNone\u001b[39;00m:\n\u001b[1;32m     20\u001b[0m     wandb\u001b[38;5;241m.\u001b[39mlog({\u001b[38;5;124m\"\u001b[39m\u001b[38;5;124mFinal MAPE\u001b[39m\u001b[38;5;124m\"\u001b[39m: mape, \u001b[38;5;124m\"\u001b[39m\u001b[38;5;124mFinal MSE\u001b[39m\u001b[38;5;124m\"\u001b[39m: mse, \u001b[38;5;124m\"\u001b[39m\u001b[38;5;124mFinal MAE\u001b[39m\u001b[38;5;124m\"\u001b[39m: mae})\n\u001b[1;32m     21\u001b[0m     wandb\u001b[38;5;241m.\u001b[39mlog({\u001b[38;5;124m\"\u001b[39m\u001b[38;5;124mchart\u001b[39m\u001b[38;5;124m\"\u001b[39m: wandb\u001b[38;5;241m.\u001b[39mImage(\u001b[38;5;124m'\u001b[39m\u001b[38;5;124mplot_xgboost.png\u001b[39m\u001b[38;5;124m'\u001b[39m)})\n",
      "\u001b[0;31mNameError\u001b[0m: name 'mape' is not defined"
     ]
    },
    {
     "data": {
      "text/plain": [
       "<Figure size 2000x1200 with 0 Axes>"
      ]
     },
     "metadata": {},
     "output_type": "display_data"
    },
    {
     "name": "stderr",
     "output_type": "stream",
     "text": [
      "\u001b[34m\u001b[1mwandb\u001b[0m: \u001b[33mWARNING\u001b[0m Fatal error while uploading data. Some run data will not be synced, but it will still be written to disk. Use `wandb sync` at the end of the run to try uploading.\n"
     ]
    }
   ],
   "source": [
    "#main expriment\n",
    "def main():\n",
    "    log1 = str(input(\"log to wandb y/n?\"))\n",
    "    wandb_log(log1,\"init\")\n",
    "\n",
    "    data = pd.read_csv(\"merged_file.csv\")\n",
    "    \n",
    "\n",
    "    gdata = create_lag_features(data, lag=3)\n",
    "    \n",
    "    # 删除包含NaN值的行（因滞后特征生成的NaN）\n",
    "    data.dropna(inplace=True)\n",
    "    \n",
    "    # 提取年份和周数\n",
    "    data['Year'] = data['YearWeek'].astype(str).str[:4].astype(int)\n",
    "    data['Week'] = data['YearWeek'].astype(str).str[4:].astype(int)\n",
    "\n",
    "    # 特征包括年份、周数、滞后特征、温度等\n",
    "    X = data[['Year', 'Week', 'ExcludedCases', 'PendingCases', 'AverageTemperature', 'lag_1', 'lag_2', 'lag_3']]\n",
    "    y = data['ConfirmedCases']\n",
    "\n",
    "    # 按时间顺序分割数据，80%用于训练，20%用于测试\n",
    "    # 從原本回歸分析無腦拆解資料集的：\n",
    "    # train_test_split(X, y, test_size=0.2, random_state=42)\n",
    "    #->\n",
    "    split_index = int(len(X) * 0.8)\n",
    "    X_train, X_test = X[:split_index], X[split_index:]\n",
    "    y_train, y_test = y[:split_index], y[split_index:]\n",
    "\n",
    "    # 使用 XGBoost 模型\n",
    "    model = xgb.XGBRegressor(objective='reg:squarederror',random_state=42, n_estimators=300, max_depth=10, learning_rate=0.05)#, n_estimators=300, max_depth=10, learning_rate=0.05)\n",
    "    model.fit(X_train,y_train)\n",
    "    y_pred = model.predict(X_test)\n",
    "\n",
    "    # 保存与 70% 最接近的参数组合\n",
    "\n",
    "\n",
    "\n",
    "    mse = mean_squared_error(y_test, y_pred)\n",
    "    mae = mean_absolute_error(y_test, y_pred)\n",
    "    mape = calculate_mape(y_test, y_pred)\n",
    "    wandb.log({\"Final MAPE\": mape, \"Final MSE\": mse, \"Final MAE\": mae})\n",
    "\n",
    "    print(f\"最终模型 MAPE: {mape:.2f}%\")\n",
    "    print(f\"均方误差 (MSE): {mse:.2f}\")\n",
    "    print(f\"平均绝对误差 (MAE): {mae:.2f}\")\n",
    "\n",
    "    plt.figure(figsize=(10,6))\n",
    "    plt.plot(y_test.values, label=\"Actual\", linestyle='--', marker='o')\n",
    "    plt.plot(y_pred, label=\"Predicted\", linestyle='--', marker='x')\n",
    "    plt.legend()\n",
    "    plt.xlabel('sample index')\n",
    "    plt.ylabel('comfirmed cases')\n",
    "    plt.title('Actual vs Predicted comfirmed cases')\n",
    "    plt.savefig('plot_xgboost.png')\n",
    "    plt.close()\n",
    "\n",
    "    plt.figure(figsize=(20,12))\n",
    "    plot_tree(model, num_trees=0,fontsize = 12)  # 0 表示第一棵树\n",
    "    plt.title(\"XGBoost Tree Visualization\")\n",
    "    plt.savefig(\"xgboost_tree.png\",dpi = 1200 , bbox_inches = \"tight\")\n",
    "    plt.close()  # Close the figure after saving\n",
    "    wandb_log(log1,\"log_final_data\")\n",
    "if __name__ == \"__main__\":\n",
    "    main()"
   ]
  }
 ],
 "metadata": {
  "kernelspec": {
   "display_name": ".venv",
   "language": "python",
   "name": "python3"
  },
  "language_info": {
   "codemirror_mode": {
    "name": "ipython",
    "version": 3
   },
   "file_extension": ".py",
   "mimetype": "text/x-python",
   "name": "python",
   "nbconvert_exporter": "python",
   "pygments_lexer": "ipython3",
   "version": "3.12.7"
  }
 },
 "nbformat": 4,
 "nbformat_minor": 2
}
